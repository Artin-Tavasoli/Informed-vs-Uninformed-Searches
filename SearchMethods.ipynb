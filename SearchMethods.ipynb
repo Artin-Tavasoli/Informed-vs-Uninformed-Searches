{
 "cells": [
  {
   "cell_type": "markdown",
   "metadata": {},
   "source": [
    "<div align=\"center\">\n",
    "\n",
    "# 🔍 Uninformed/Informed Search Techniques\n",
    "\n",
    "###  **Artin Tavasoli** 👋🏻 \n",
    "📘 **Student ID:** `810102543`\n",
    "\n",
    "</div>\n"
   ]
  },
  {
   "cell_type": "code",
   "execution_count": 83,
   "metadata": {},
   "outputs": [],
   "source": [
    "from game import Game\n",
    "import time\n",
    "import os\n",
    "import re"
   ]
  },
  {
   "cell_type": "markdown",
   "metadata": {},
   "source": [
    "## Load maps"
   ]
  },
  {
   "cell_type": "code",
   "execution_count": 84,
   "metadata": {},
   "outputs": [],
   "source": [
    "def extract_map_files(directory):\n",
    "    pattern = re.compile(r'^map(\\d+)\\.txt$')\n",
    "    map_file_indices = []\n",
    "\n",
    "    for file_name in os.listdir(directory):\n",
    "        match = pattern.match(file_name)\n",
    "        if match:\n",
    "            map_file_indices.append(match.group(1))\n",
    "\n",
    "    return [int(idx) for idx in map_file_indices]\n",
    "\n",
    "def is_valid_input(map, indices, algorithm, solvers):\n",
    "    valid_input = True\n",
    "    if map not in indices:\n",
    "        print(f\"Map index out of range. Please choose within range {min(indices)} to {max(indices)}\")\n",
    "        valid_input = False\n",
    "    if algorithm not in solvers.keys():    \n",
    "        print(f\"{algorithm} is not a defined algorithm. Please choose from\", *[f\"{solver} ({i+1})  \" for i, solver in enumerate(solvers.keys())])\n",
    "        valid_input = False\n",
    "    return valid_input\n",
    "\n",
    "def load_map(map_index):  \n",
    "    file_name = \"map\" + str(map_index) + \".txt\"\n",
    "    with open('./assets/maps/' + file_name) as f:\n",
    "        game_map = f.read()\n",
    "    return game_map\n",
    "\n",
    "map_file_indices = extract_map_files(\"./assets/maps/\")"
   ]
  },
  {
   "cell_type": "markdown",
   "metadata": {},
   "source": [
    "## Tutorial"
   ]
  },
  {
   "cell_type": "code",
   "execution_count": 85,
   "metadata": {},
   "outputs": [
    {
     "name": "stdout",
     "output_type": "stream",
     "text": [
      "This is an example of the game map:\n",
      "W\tP1\tH\tW\tW\tW\tW\n",
      "W\tW\tW\tG1\tW\tW\tW\n",
      "W\tW\tW\tB1\tW\tW\tW\n",
      "W\tG2\tB2\t.\tP1\tW\tW\n",
      "W\tW\tW\tB3\tW\tW\tW\n",
      "W\tW\tW\tG3\tW\tW\tW\n",
      "W\tW\tW\tW\tW\tW\tW\n"
     ]
    }
   ],
   "source": [
    "print(\"This is an example of the game map:\")\n",
    "map = load_map(2)\n",
    "game = Game(map)\n",
    "game.display_map()"
   ]
  },
  {
   "cell_type": "code",
   "execution_count": 86,
   "metadata": {},
   "outputs": [
    {
     "data": {
      "text/plain": [
       "[(2, 3), (3, 2), (4, 3)]"
      ]
     },
     "execution_count": 86,
     "metadata": {},
     "output_type": "execute_result"
    }
   ],
   "source": [
    "game.get_box_locations()"
   ]
  },
  {
   "cell_type": "code",
   "execution_count": 87,
   "metadata": {},
   "outputs": [
    {
     "data": {
      "text/plain": [
       "[(1, 3), (3, 1), (5, 3)]"
      ]
     },
     "execution_count": 87,
     "metadata": {},
     "output_type": "execute_result"
    }
   ],
   "source": [
    "game.get_goal_locations()"
   ]
  },
  {
   "cell_type": "code",
   "execution_count": 88,
   "metadata": {},
   "outputs": [
    {
     "data": {
      "text/plain": [
       "(0, 2)"
      ]
     },
     "execution_count": 88,
     "metadata": {},
     "output_type": "execute_result"
    }
   ],
   "source": [
    "game.get_player_position()"
   ]
  },
  {
   "cell_type": "markdown",
   "metadata": {},
   "source": [
    "- W : Wall\n",
    "- H : Human\n",
    "- B : Box\n",
    "- P : Portal\n",
    "- G : Goal"
   ]
  },
  {
   "cell_type": "code",
   "execution_count": 89,
   "metadata": {},
   "outputs": [
    {
     "name": "stdout",
     "output_type": "stream",
     "text": [
      "Move U is valid: False\n",
      "Move D is valid: False\n",
      "Move R is valid: False\n",
      "Move L is valid: True\n",
      "W\tP1\t.\tW\tW\tW\tW\n",
      "W\tW\tW\tG1\tW\tW\tW\n",
      "W\tW\tW\tB1\tW\tW\tW\n",
      "W\tG2\tB2\tH\tP1\tW\tW\n",
      "W\tW\tW\tB3\tW\tW\tW\n",
      "W\tW\tW\tG3\tW\tW\tW\n",
      "W\tW\tW\tW\tW\tW\tW\n"
     ]
    }
   ],
   "source": [
    "for direction in ['U', 'D', 'R', 'L']:\n",
    "    result = game.apply_move(direction)\n",
    "    print(f\"Move {direction} is valid: {result}\")\n",
    "    if result:\n",
    "        game.display_map()"
   ]
  },
  {
   "cell_type": "code",
   "execution_count": 90,
   "metadata": {},
   "outputs": [
    {
     "name": "stdout",
     "output_type": "stream",
     "text": [
      "W\tP1\t.\tW\tW\tW\tW\n",
      "W\tW\tW\tG1/B1\tW\tW\tW\n",
      "W\tW\tW\tH\tW\tW\tW\n",
      "W\tG2\tB2\t.\tP1\tW\tW\n",
      "W\tW\tW\tB3\tW\tW\tW\n",
      "W\tW\tW\tG3\tW\tW\tW\n",
      "W\tW\tW\tW\tW\tW\tW\n"
     ]
    }
   ],
   "source": [
    "game.apply_move('U')\n",
    "game.display_map()"
   ]
  },
  {
   "cell_type": "code",
   "execution_count": 91,
   "metadata": {},
   "outputs": [
    {
     "name": "stdout",
     "output_type": "stream",
     "text": [
      "W\tP1\t.\tW\tW\tW\tW\n",
      "W\tW\tW\tG1/B1\tW\tW\tW\n",
      "W\tW\tW\t.\tW\tW\tW\n",
      "W\tG2/B2\t.\t.\tP1\tW\tW\n",
      "W\tW\tW\tH\tW\tW\tW\n",
      "W\tW\tW\tG3/B3\tW\tW\tW\n",
      "W\tW\tW\tW\tW\tW\tW\n",
      "Is game won? True\n"
     ]
    }
   ],
   "source": [
    "game.apply_moves(['D', 'L', 'R', 'D']) \n",
    "game.display_map()\n",
    "print(\"Is game won?\", game.is_game_won())"
   ]
  },
  {
   "cell_type": "markdown",
   "metadata": {},
   "source": [
    "## Solvers"
   ]
  },
  {
   "cell_type": "code",
   "execution_count": 92,
   "metadata": {},
   "outputs": [],
   "source": [
    "class State:\n",
    "    def __init__(self, pos_player, pos_boxes, direction_from_father):\n",
    "        self.pos_player = pos_player\n",
    "        self.pos_boxes = pos_boxes\n",
    "        self.direction_from_father = direction_from_father\n",
    "        self.heuristic = 0\n",
    "        self.depth = 0\n",
    "    def get_player_pos(self):\n",
    "        return self.pos_player\n",
    "    def get_boxes_pos(self):\n",
    "        return self.pos_boxes\n",
    "    def get_solution(self):\n",
    "        if self.father is None:\n",
    "            return \"\"\n",
    "        return self.father.get_solution() + self.direction_from_father\n",
    "    def __lt__(self, other):\n",
    "        return  self.sum_hurisitic_and_cost_spent < other.sum_hurisitic_and_cost_spent\n",
    "    def set_depth(self, depth):\n",
    "        self.depth = depth\n",
    "    def get_depth(self):\n",
    "        return self.depth\n",
    "    def set_sum_hurisitic_and_cost_spent(self, sum_hurisitic_and_cost_spent):\n",
    "        self.sum_hurisitic_and_cost_spent = sum_hurisitic_and_cost_spent\n",
    "    def set_father(self, father):\n",
    "        self.father = father\n",
    "        \n",
    "    \n",
    "def get_state_id(player_pos, boxes_pos):\n",
    "    return hash(str(player_pos) + str(boxes_pos))"
   ]
  },
  {
   "cell_type": "markdown",
   "metadata": {},
   "source": [
    "### BFS"
   ]
  },
  {
   "cell_type": "code",
   "execution_count": null,
   "metadata": {},
   "outputs": [],
   "source": [
    "from collections import deque\n",
    "def solver_bfs(game_map):\n",
    "    game = Game(game_map)\n",
    "    frontier = deque()\n",
    "    explored = set()\n",
    "    root = State(game.get_player_position(),game.get_box_locations(),\"\")\n",
    "    root.set_father(None)\n",
    "    frontier.append(root)\n",
    "    while frontier:\n",
    "        the_node = frontier.popleft()\n",
    "        explored.add(get_state_id(the_node.get_player_pos(), the_node.get_boxes_pos()))\n",
    "        for direction in ['U', 'D', 'R', 'L']:\n",
    "            game.set_player_position(the_node.get_player_pos())\n",
    "            game.set_box_positions(the_node.get_boxes_pos())\n",
    "            result = game.apply_move(direction)\n",
    "            if(result):\n",
    "                child = State(game.get_player_position(),game.get_box_locations(),direction)\n",
    "                child.set_father(the_node)\n",
    "                child_state_id = get_state_id(child.get_player_pos(), child.get_boxes_pos())\n",
    "                if game.is_game_won():\n",
    "                    return child.get_solution(), len(explored)\n",
    "                if child_state_id not in explored:\n",
    "                    frontier.append(child)\n",
    "                    explored.add(child_state_id)\n",
    "    return None,len(explored)"
   ]
  },
  {
   "cell_type": "markdown",
   "metadata": {},
   "source": [
    "### DFS"
   ]
  },
  {
   "cell_type": "code",
   "execution_count": 94,
   "metadata": {},
   "outputs": [],
   "source": [
    "def dfs(the_node, visited, game, number_states_seen):\n",
    "    number_states_seen += 1\n",
    "    game.set_player_position(the_node.get_player_pos())\n",
    "    game.set_box_positions(the_node.get_boxes_pos())\n",
    "    the_node_state_id = get_state_id(the_node.get_player_pos(), the_node.get_boxes_pos())\n",
    "    visited.add(the_node_state_id)\n",
    "    if game.is_game_won():\n",
    "        return the_node.get_solution(), number_states_seen\n",
    "    for direction in ['U', 'D', 'R', 'L']:\n",
    "        game.set_player_position(the_node.get_player_pos())\n",
    "        game.set_box_positions(the_node.get_boxes_pos())\n",
    "        result = game.apply_move(direction)\n",
    "        if result:\n",
    "            child = State(game.get_player_position(), game.get_box_locations(), direction)\n",
    "            child.set_father(the_node)\n",
    "            child_state_id = get_state_id(child.get_player_pos(), child.get_boxes_pos()) \n",
    "            if child_state_id not in visited:\n",
    "                ans, number_states_seen = dfs(child, visited, game, number_states_seen)\n",
    "                if ans:\n",
    "                    return ans, number_states_seen\n",
    "    visited.remove(the_node_state_id)\n",
    "    return None, number_states_seen\n",
    "\n",
    "def solver_dfs(game_map):\n",
    "    game = Game(game_map)\n",
    "    visited = set()\n",
    "    root = State(game.get_player_position(), game.get_box_locations(), \"\")\n",
    "    root.set_father(None)\n",
    "    return dfs(root, visited, game, 0)"
   ]
  },
  {
   "cell_type": "markdown",
   "metadata": {},
   "source": [
    "### IDS"
   ]
  },
  {
   "cell_type": "code",
   "execution_count": 95,
   "metadata": {},
   "outputs": [],
   "source": [
    "def ids(the_node, visited, game, number_states_seen, depth_restricted):\n",
    "    if the_node.get_depth() > depth_restricted:\n",
    "        return None, number_states_seen\n",
    "    number_states_seen += 1\n",
    "    game.set_player_position(the_node.get_player_pos())\n",
    "    game.set_box_positions(the_node.get_boxes_pos())\n",
    "    the_node_state_id = get_state_id(the_node.get_player_pos(), the_node.get_boxes_pos())\n",
    "    visited.add(the_node_state_id)\n",
    "    if game.is_game_won():\n",
    "        return the_node.get_solution(), number_states_seen\n",
    "    for direction in ['U', 'D', 'R', 'L']:\n",
    "        game.set_player_position(the_node.get_player_pos())\n",
    "        game.set_box_positions(the_node.get_boxes_pos())\n",
    "        result = game.apply_move(direction)\n",
    "        if result:\n",
    "            child = State(game.get_player_position(), game.get_box_locations(), direction)\n",
    "            child.set_father(the_node)\n",
    "            child.set_depth(the_node.get_depth() + 1)\n",
    "            child_state_id = get_state_id(child.get_player_pos(), child.get_boxes_pos()) \n",
    "            if child_state_id not in visited:\n",
    "                ans, number_states_seen = ids(child, visited, game, number_states_seen, depth_restricted)\n",
    "                if ans:\n",
    "                    return ans, number_states_seen\n",
    "    visited.remove(the_node_state_id)\n",
    "    return None, number_states_seen\n",
    "\n",
    "def solver_ids(game_map):\n",
    "    game = Game(game_map)\n",
    "    visited = set()\n",
    "    root = State(game.get_player_position(),game.get_box_locations(),\"\")\n",
    "    root.set_depth(0)\n",
    "    root.set_father(None)\n",
    "    for depth_restricted in range(1000):\n",
    "        ans,number_states_seen = ids(root, visited, game, 0, depth_restricted)\n",
    "        if ans:\n",
    "            return ans,number_states_seen\n",
    "    return None, number_states_seen"
   ]
  },
  {
   "cell_type": "markdown",
   "metadata": {},
   "source": [
    "### A*"
   ]
  },
  {
   "cell_type": "markdown",
   "metadata": {},
   "source": [
    "HEURISTIC"
   ]
  },
  {
   "cell_type": "code",
   "execution_count": 96,
   "metadata": {},
   "outputs": [],
   "source": [
    "from heapq import heappush, heappop\n",
    "def manhattan_dist(pos1, pos2):\n",
    "    return abs(pos1[0] - pos2[0]) + abs(pos1[1] - pos2[1])    \n",
    "\n",
    "def heuristic0(game):\n",
    "    return 0\n",
    "\n",
    "def heuristic1(game):\n",
    "    box_positions = game.get_box_locations()\n",
    "    goal_positions = game.get_goal_locations()\n",
    "    heuristic = 0\n",
    "    for i in range(len(box_positions)):\n",
    "        dist_box_from_goal = manhattan_dist(box_positions[i], goal_positions[i])\n",
    "        heuristic += dist_box_from_goal\n",
    "    return heuristic\n",
    "\n",
    "def calculate_min_dist_box_to_portal_to_goal(portal_locations, box_pos, goal_pos):\n",
    "    ans = 1e9\n",
    "    for j in range(len(portal_locations)):\n",
    "        dist1 = manhattan_dist(box_pos, portal_locations[j][0]) + manhattan_dist(portal_locations[j][1], goal_pos)\n",
    "        dist2 = manhattan_dist(box_pos, portal_locations[j][1]) + manhattan_dist(portal_locations[j][0], goal_pos)\n",
    "        dist_box_from_goal_with_portals = min(dist1, dist2)\n",
    "        if dist_box_from_goal_with_portals < ans:\n",
    "            ans = dist_box_from_goal_with_portals\n",
    "    return ans\n",
    "\n",
    "def heuristic2(game):\n",
    "    box_positions = game.get_box_locations()\n",
    "    goal_positions = game.get_goal_locations()\n",
    "    portal_locations = game.get_portal_locations()\n",
    "    heuristic = 0\n",
    "    for i in range(len(box_positions)):\n",
    "        dist_box_from_goal = manhattan_dist(box_positions[i], goal_positions[i])\n",
    "        dist_box_from_goal_with_portal = calculate_min_dist_box_to_portal_to_goal(portal_locations, box_positions[i], goal_positions[i])\n",
    "        heuristic += min(dist_box_from_goal, dist_box_from_goal_with_portal)  \n",
    "    return heuristic"
   ]
  },
  {
   "cell_type": "markdown",
   "metadata": {},
   "source": [
    "A* with 0 as heuristic"
   ]
  },
  {
   "cell_type": "code",
   "execution_count": 97,
   "metadata": {},
   "outputs": [],
   "source": [
    "def solver_astar(game_map, heuristic_func=heuristic0, weight=1):\n",
    "    game = Game(game_map)\n",
    "    root = State(game.get_player_position(),game.get_box_locations(),\"\")\n",
    "    frontier = []\n",
    "    explored = set()\n",
    "    best_cost = {}\n",
    "    root.set_depth(0)\n",
    "    root_cost = weight * heuristic_func(game)\n",
    "    root.set_sum_hurisitic_and_cost_spent(root_cost)\n",
    "    root.set_father(None)\n",
    "    heappush(frontier, root)\n",
    "    best_cost[get_state_id(root.get_player_pos(), root.get_boxes_pos())] = root_cost\n",
    "    while frontier:\n",
    "        the_node = heappop(frontier)\n",
    "        explored.add(get_state_id(the_node.get_player_pos(), the_node.get_boxes_pos()))\n",
    "        game.set_player_position(the_node.get_player_pos())\n",
    "        game.set_box_positions(the_node.get_boxes_pos())\n",
    "        if game.is_game_won():\n",
    "            return the_node.get_solution(), len(explored)\n",
    "        for direction in ['U', 'D', 'R', 'L']:\n",
    "            game.set_player_position(the_node.get_player_pos())\n",
    "            game.set_box_positions(the_node.get_boxes_pos())\n",
    "            result = game.apply_move(direction)\n",
    "            if(result):\n",
    "                child_state_id = get_state_id(game.get_player_position(), game.get_box_locations())\n",
    "                if child_state_id not in explored:\n",
    "                    child_cost = weight * heuristic_func(game) + the_node.get_depth() + 1\n",
    "                    if child_state_id not in best_cost or child_cost < best_cost[child_state_id]:\n",
    "                        best_cost[child_state_id] = child_cost\n",
    "                        child = State(game.get_player_position(), game.get_box_locations(), direction)\n",
    "                        child.set_sum_hurisitic_and_cost_spent(child_cost)\n",
    "                        child.set_depth(the_node.get_depth() + 1)\n",
    "                        child.set_father(the_node)\n",
    "                        heappush(frontier, child)           \n",
    "    return None, len(explored)"
   ]
  },
  {
   "cell_type": "markdown",
   "metadata": {},
   "source": [
    "A* with box-goal heuristic\n",
    "\n",
    "this is not a good heuristic for when you have portals, the next heuristic is the best one"
   ]
  },
  {
   "cell_type": "code",
   "execution_count": 98,
   "metadata": {},
   "outputs": [],
   "source": [
    "def solver_astar2(game_map, heuristic_func=heuristic1, weight=1):\n",
    "    game = Game(game_map)\n",
    "    root = State(game.get_player_position(),game.get_box_locations(),\"\")\n",
    "    frontier = []\n",
    "    explored = set()\n",
    "    best_cost = {}\n",
    "    root.set_depth(0)\n",
    "    root_cost = weight * heuristic_func(game)\n",
    "    root.set_sum_hurisitic_and_cost_spent(root_cost)\n",
    "    root.set_father(None)\n",
    "    heappush(frontier, root)\n",
    "    best_cost[get_state_id(root.get_player_pos(), root.get_boxes_pos())] = root_cost\n",
    "    while frontier:\n",
    "        the_node = heappop(frontier)\n",
    "        explored.add(get_state_id(the_node.get_player_pos(), the_node.get_boxes_pos()))\n",
    "        game.set_player_position(the_node.get_player_pos())\n",
    "        game.set_box_positions(the_node.get_boxes_pos())\n",
    "        if game.is_game_won():\n",
    "            return the_node.get_solution(), len(explored)\n",
    "        for direction in ['U', 'D', 'R', 'L']:\n",
    "            game.set_player_position(the_node.get_player_pos())\n",
    "            game.set_box_positions(the_node.get_boxes_pos())\n",
    "            result = game.apply_move(direction)\n",
    "            if(result):\n",
    "                child_state_id = get_state_id(game.get_player_position(), game.get_box_locations())\n",
    "                if child_state_id not in explored:\n",
    "                    child_cost = weight * heuristic_func(game) + the_node.get_depth() + 1\n",
    "                    if child_state_id not in best_cost or child_cost < best_cost[child_state_id]:\n",
    "                        best_cost[child_state_id] = child_cost\n",
    "                        child = State(game.get_player_position(), game.get_box_locations(), direction)\n",
    "                        child.set_sum_hurisitic_and_cost_spent(child_cost)\n",
    "                        child.set_depth(the_node.get_depth() + 1)\n",
    "                        child.set_father(the_node)\n",
    "                        heappush(frontier, child)           \n",
    "    return None, len(explored)"
   ]
  },
  {
   "cell_type": "markdown",
   "metadata": {},
   "source": [
    "A* with box-portal-goal heuristic"
   ]
  },
  {
   "cell_type": "code",
   "execution_count": 99,
   "metadata": {},
   "outputs": [],
   "source": [
    "def solver_astar3(game_map, heuristic_func=heuristic2, weight=1):\n",
    "    game = Game(game_map)\n",
    "    root = State(game.get_player_position(),game.get_box_locations(),\"\")\n",
    "    frontier = []\n",
    "    explored = set()\n",
    "    best_cost = {}\n",
    "    root.set_depth(0)\n",
    "    root_cost = weight * heuristic_func(game)\n",
    "    root.set_sum_hurisitic_and_cost_spent(root_cost)\n",
    "    root.set_father(None)\n",
    "    heappush(frontier, root)\n",
    "    best_cost[get_state_id(root.get_player_pos(), root.get_boxes_pos())] = root_cost\n",
    "    while frontier:\n",
    "        the_node = heappop(frontier)\n",
    "        explored.add(get_state_id(the_node.get_player_pos(), the_node.get_boxes_pos()))\n",
    "        game.set_player_position(the_node.get_player_pos())\n",
    "        game.set_box_positions(the_node.get_boxes_pos())\n",
    "        if game.is_game_won():\n",
    "            return the_node.get_solution(), len(explored)\n",
    "        for direction in ['U', 'D', 'R', 'L']:\n",
    "            game.set_player_position(the_node.get_player_pos())\n",
    "            game.set_box_positions(the_node.get_boxes_pos())\n",
    "            result = game.apply_move(direction)\n",
    "            if(result):\n",
    "                child_state_id = get_state_id(game.get_player_position(), game.get_box_locations())\n",
    "                if child_state_id not in explored:\n",
    "                    child_cost = weight * heuristic_func(game) + the_node.get_depth() + 1\n",
    "                    if child_state_id not in best_cost or child_cost < best_cost[child_state_id]:\n",
    "                        best_cost[child_state_id] = child_cost\n",
    "                        child = State(game.get_player_position(), game.get_box_locations(), direction)\n",
    "                        child.set_sum_hurisitic_and_cost_spent(child_cost)\n",
    "                        child.set_depth(the_node.get_depth() + 1)\n",
    "                        child.set_father(the_node)\n",
    "                        heappush(frontier, child)           \n",
    "    return None, len(explored)"
   ]
  },
  {
   "cell_type": "markdown",
   "metadata": {},
   "source": [
    "Weighted A*"
   ]
  },
  {
   "cell_type": "code",
   "execution_count": 100,
   "metadata": {},
   "outputs": [],
   "source": [
    "def solver_astar4(game_map, heuristic_func=heuristic2, weight= 2.5):\n",
    "    game = Game(game_map)\n",
    "    root = State(game.get_player_position(),game.get_box_locations(),\"\")\n",
    "    frontier = []\n",
    "    explored = set()\n",
    "    best_cost = {}\n",
    "    root.set_depth(0)\n",
    "    root_cost = weight * heuristic_func(game)\n",
    "    root.set_sum_hurisitic_and_cost_spent(root_cost)\n",
    "    root.set_father(None)\n",
    "    heappush(frontier, root)\n",
    "    best_cost[get_state_id(root.get_player_pos(), root.get_boxes_pos())] = root_cost\n",
    "    while frontier:\n",
    "        the_node = heappop(frontier)\n",
    "        explored.add(get_state_id(the_node.get_player_pos(), the_node.get_boxes_pos()))\n",
    "        game.set_player_position(the_node.get_player_pos())\n",
    "        game.set_box_positions(the_node.get_boxes_pos())\n",
    "        if game.is_game_won():\n",
    "            return the_node.get_solution(), len(explored)\n",
    "        for direction in ['U', 'D', 'R', 'L']:\n",
    "            game.set_player_position(the_node.get_player_pos())\n",
    "            game.set_box_positions(the_node.get_boxes_pos())\n",
    "            result = game.apply_move(direction)\n",
    "            if(result):\n",
    "                child_state_id = get_state_id(game.get_player_position(), game.get_box_locations())\n",
    "                if child_state_id not in explored:\n",
    "                    child_cost = weight * heuristic_func(game) + the_node.get_depth() + 1\n",
    "                    if child_state_id not in best_cost or child_cost < best_cost[child_state_id]:\n",
    "                        best_cost[child_state_id] = child_cost\n",
    "                        child = State(game.get_player_position(), game.get_box_locations(), direction)\n",
    "                        child.set_sum_hurisitic_and_cost_spent(child_cost)\n",
    "                        child.set_depth(the_node.get_depth() + 1)\n",
    "                        child.set_father(the_node)\n",
    "                        heappush(frontier, child)           \n",
    "    return None, len(explored)"
   ]
  },
  {
   "cell_type": "markdown",
   "metadata": {},
   "source": [
    "## Solve"
   ]
  },
  {
   "cell_type": "code",
   "execution_count": 101,
   "metadata": {},
   "outputs": [],
   "source": [
    "SOLVERS = {\n",
    "    \"BFS\": solver_bfs,\n",
    "    \"DFS\": solver_dfs,\n",
    "    \"IDS\": solver_ids,\n",
    "    \"A*\": solver_astar,\n",
    "    \"A* without portal\": solver_astar2,\n",
    "    \"A* optimal with portal\": solver_astar3,\n",
    "    \"Weighted A*\": solver_astar4\n",
    "}"
   ]
  },
  {
   "cell_type": "code",
   "execution_count": 102,
   "metadata": {},
   "outputs": [],
   "source": [
    "def solve(map, method):  \n",
    "    \n",
    "    if not is_valid_input(map, map_file_indices, method, SOLVERS):\n",
    "        return\n",
    "    \n",
    "    file_name = \"map\" + str(map) + \".txt\"\n",
    "    with open('./assets/maps/' + file_name) as f:\n",
    "        game_map = f.read()\n",
    "    \n",
    "    start_time = time.time()\n",
    "    moves, numof_visited_states = SOLVERS[method](game_map)\n",
    "    end_time = time.time()\n",
    "    print(f\"{method} took {round(end_time - start_time, 2)} seconds on map {map} and visited {numof_visited_states} states.\")\n",
    "    \n",
    "    if moves is None:\n",
    "        print(\"No Solution Found!\")\n",
    "    else:\n",
    "        print(f\"{len(moves)} moves were used: {moves}\")\n",
    "            "
   ]
  },
  {
   "cell_type": "code",
   "execution_count": 103,
   "metadata": {},
   "outputs": [
    {
     "name": "stdout",
     "output_type": "stream",
     "text": [
      "BFS took 0.0 seconds on map 1 and visited 43 states.\n",
      "6 moves were used: DURLLR\n",
      "BFS took 0.0 seconds on map 2 and visited 21 states.\n",
      "6 moves were used: LUDDUR\n",
      "BFS took 0.0 seconds on map 3 and visited 121 states.\n",
      "13 moves were used: ULDDUUUURDDDU\n",
      "BFS took 0.0 seconds on map 4 and visited 2 states.\n",
      "No Solution Found!\n",
      "BFS took 0.1 seconds on map 5 and visited 6249 states.\n",
      "15 moves were used: ULDDRDLLLUUURUR\n",
      "BFS took 0.4 seconds on map 6 and visited 17530 states.\n",
      "34 moves were used: UUUUURRRLLLLLLLDDDDDDDDDRDLURRRRRR\n",
      "BFS took 20.11 seconds on map 7 and visited 632831 states.\n",
      "34 moves were used: RURRDDDDLDRUUUULLLRDRDRDDLLDLLUUDD\n",
      "BFS took 0.08 seconds on map 8 and visited 7492 states.\n",
      "14 moves were used: UURDLDRRDRURDD\n",
      "BFS took 5.37 seconds on map 10 and visited 241397 states.\n",
      "46 moves were used: RRRRRDRULURULLLULDRUUULDRDLDRRDRULURURDDRDLLLR\n"
     ]
    }
   ],
   "source": [
    "def solve_all_BFS():\n",
    "    for map in range(min(map_file_indices), max(map_file_indices) + 1):\n",
    "        if map != 9:\n",
    "            solve(map, \"BFS\")\n",
    "\n",
    "solve_all_BFS()"
   ]
  },
  {
   "cell_type": "code",
   "execution_count": 104,
   "metadata": {},
   "outputs": [
    {
     "name": "stdout",
     "output_type": "stream",
     "text": [
      "DFS took 0.0 seconds on map 1 and visited 11 states.\n",
      "7 moves were used: UDDURLL\n",
      "DFS took 0.0 seconds on map 2 and visited 9 states.\n",
      "6 moves were used: LUDDUL\n",
      "DFS took 0.0 seconds on map 3 and visited 139 states.\n",
      "33 moves were used: ULUURDULDDDUUURDDUULDDDDUUUURDDDD\n",
      "DFS took 0.0 seconds on map 4 and visited 2 states.\n",
      "No Solution Found!\n"
     ]
    }
   ],
   "source": [
    "def solve_all_DFS():\n",
    "    for map in range(min(map_file_indices), max(map_file_indices) + 1):\n",
    "        if map < 5:\n",
    "            solve(map, \"DFS\")\n",
    "\n",
    "solve_all_DFS()"
   ]
  },
  {
   "cell_type": "code",
   "execution_count": 105,
   "metadata": {},
   "outputs": [
    {
     "name": "stdout",
     "output_type": "stream",
     "text": [
      "IDS took 0.0 seconds on map 1 and visited 11 states.\n",
      "7 moves were used: UDDURLL\n",
      "IDS took 0.0 seconds on map 2 and visited 9 states.\n",
      "6 moves were used: LUDDUL\n",
      "IDS took 0.02 seconds on map 3 and visited 284 states.\n",
      "13 moves were used: ULDDUUUURDDDD\n",
      "IDS took 0.02 seconds on map 4 and visited 2 states.\n",
      "No Solution Found!\n",
      "IDS took 12.84 seconds on map 5 and visited 81510 states.\n",
      "15 moves were used: ULDDRDLLLUUURUL\n",
      "IDS took 13.87 seconds on map 8 and visited 46876 states.\n",
      "14 moves were used: UURDLDRRDRURDR\n"
     ]
    }
   ],
   "source": [
    "def solve_all_IDS():\n",
    "    for map in range(min(map_file_indices), max(map_file_indices) + 1):\n",
    "        if map < 6 or map == 8 :\n",
    "            solve(map, \"IDS\")\n",
    "\n",
    "solve_all_IDS()"
   ]
  },
  {
   "cell_type": "code",
   "execution_count": 106,
   "metadata": {},
   "outputs": [
    {
     "name": "stdout",
     "output_type": "stream",
     "text": [
      "A* took 0.0 seconds on map 1 and visited 44 states.\n",
      "7 moves were used: UDLRDUR\n",
      "A* took 0.0 seconds on map 2 and visited 21 states.\n",
      "6 moves were used: LLRUDD\n",
      "A* took 0.0 seconds on map 3 and visited 114 states.\n",
      "13 moves were used: ULDDUUUURDDDD\n",
      "A* took 0.0 seconds on map 4 and visited 2 states.\n",
      "No Solution Found!\n",
      "A* took 0.26 seconds on map 5 and visited 7250 states.\n",
      "15 moves were used: ULDDRDLLLUUURUL\n",
      "A* took 0.88 seconds on map 6 and visited 19850 states.\n",
      "34 moves were used: DDDDDRRRLLLLLLLUUUUUUUURUULRRRRRRR\n",
      "A* took 29.95 seconds on map 7 and visited 673760 states.\n",
      "34 moves were used: RURRDDDDLDRUUUULLLRDRDRDDLLDLLUUDR\n",
      "A* took 0.19 seconds on map 8 and visited 7855 states.\n",
      "14 moves were used: UURDLDRRDRURDR\n",
      "A* took 6.7 seconds on map 10 and visited 241697 states.\n",
      "46 moves were used: RRRRRDRULURULLLDLLURUULDRDLDRRDRULURURDDRDLLLL\n"
     ]
    }
   ],
   "source": [
    "def solve_all_astar():\n",
    "    for map in range(min(map_file_indices), max(map_file_indices) + 1):\n",
    "        if map != 9:\n",
    "            solve(map, \"A*\")\n",
    "\n",
    "solve_all_astar()"
   ]
  },
  {
   "cell_type": "code",
   "execution_count": 107,
   "metadata": {},
   "outputs": [
    {
     "name": "stdout",
     "output_type": "stream",
     "text": [
      "A* without portal took 0.0 seconds on map 1 and visited 43 states.\n",
      "7 moves were used: UDLRDUR\n",
      "A* without portal took 0.0 seconds on map 2 and visited 19 states.\n",
      "6 moves were used: LUDDUL\n",
      "A* without portal took 0.0 seconds on map 3 and visited 75 states.\n",
      "14 moves were used: ULUURDDDDUULDD\n",
      "A* without portal took 0.0 seconds on map 4 and visited 2 states.\n",
      "No Solution Found!\n",
      "A* without portal took 0.03 seconds on map 5 and visited 668 states.\n",
      "15 moves were used: LULDLRDRDLLULUU\n",
      "A* without portal took 0.32 seconds on map 6 and visited 6595 states.\n",
      "34 moves were used: UUUURURRLLLLLLLDDDRDDDDDDDLRRRRRRR\n",
      "A* without portal took 2.1 seconds on map 7 and visited 40161 states.\n",
      "34 moves were used: RURRDDDDLDRUUUULLLRDRDRDDLLDLLURLU\n",
      "A* without portal took 0.0 seconds on map 8 and visited 147 states.\n",
      "19 moves were used: URRRRRRRRRRRRRURDDR\n",
      "A* without portal took 1.16 seconds on map 10 and visited 56045 states.\n",
      "46 moves were used: RRRRRDRULURULLLULDRUUULDRDLDRRDRULURURDDRDLLLL\n"
     ]
    }
   ],
   "source": [
    "def solve_all_astar_optimal():\n",
    "    for map in range(min(map_file_indices), max(map_file_indices) + 1):\n",
    "        if map != 9:\n",
    "            solve(map, \"A* without portal\")\n",
    "\n",
    "solve_all_astar_optimal()"
   ]
  },
  {
   "cell_type": "code",
   "execution_count": 108,
   "metadata": {},
   "outputs": [
    {
     "name": "stdout",
     "output_type": "stream",
     "text": [
      "A* optimal with portal took 0.0 seconds on map 1 and visited 43 states.\n",
      "7 moves were used: UDLRDUR\n",
      "A* optimal with portal took 0.0 seconds on map 2 and visited 19 states.\n",
      "6 moves were used: LUDDUL\n",
      "A* optimal with portal took 0.0 seconds on map 3 and visited 75 states.\n",
      "14 moves were used: ULUURDDDDUULDD\n",
      "A* optimal with portal took 0.0 seconds on map 4 and visited 2 states.\n",
      "No Solution Found!\n",
      "A* optimal with portal took 0.01 seconds on map 5 and visited 668 states.\n",
      "15 moves were used: LULDLRDRDLLULUU\n",
      "A* optimal with portal took 0.18 seconds on map 6 and visited 6595 states.\n",
      "34 moves were used: UUUURURRLLLLLLLDDDRDDDDDDDLRRRRRRR\n",
      "A* optimal with portal took 2.23 seconds on map 7 and visited 40161 states.\n",
      "34 moves were used: RURRDDDDLDRUUUULLLRDRDRDDLLDLLURLU\n",
      "A* optimal with portal took 0.01 seconds on map 8 and visited 231 states.\n",
      "14 moves were used: UURDLDRRDRURDR\n",
      "A* optimal with portal took 2.89 seconds on map 10 and visited 65295 states.\n",
      "46 moves were used: RRRRRDRULURULLLULDRUUULDRDLDRRDRULURURDDRDLLLL\n"
     ]
    }
   ],
   "source": [
    "def solve_all_astar_more_optimal():\n",
    "    for map in range(min(map_file_indices), max(map_file_indices) + 1):\n",
    "        if map != 9:\n",
    "            solve(map, \"A* optimal with portal\")\n",
    "\n",
    "solve_all_astar_more_optimal()"
   ]
  },
  {
   "cell_type": "code",
   "execution_count": 109,
   "metadata": {},
   "outputs": [
    {
     "name": "stdout",
     "output_type": "stream",
     "text": [
      "Weighted A* took 0.0 seconds on map 1 and visited 14 states.\n",
      "7 moves were used: UDDURLL\n",
      "Weighted A* took 0.0 seconds on map 2 and visited 10 states.\n",
      "6 moves were used: LUDDUL\n",
      "Weighted A* took 0.0 seconds on map 3 and visited 26 states.\n",
      "13 moves were used: ULDDUUUURDDDD\n",
      "Weighted A* took 0.0 seconds on map 4 and visited 2 states.\n",
      "No Solution Found!\n",
      "Weighted A* took 0.0 seconds on map 5 and visited 70 states.\n",
      "15 moves were used: LULDLRDRDLLULUU\n",
      "Weighted A* took 0.07 seconds on map 6 and visited 2388 states.\n",
      "34 moves were used: DDDDDRRRLLLLLLLUUUUUUURUUULRRRRRRR\n",
      "Weighted A* took 0.19 seconds on map 7 and visited 4745 states.\n",
      "34 moves were used: RURRDDDDLDRUUUULLLRDRDRDDLLDLLUUDR\n",
      "Weighted A* took 0.01 seconds on map 8 and visited 164 states.\n",
      "21 moves were used: URURDDDDLDRRRRLUURRDR\n",
      "Weighted A* took 14.98 seconds on map 9 and visited 232578 states.\n",
      "51 moves were used: RURRUUUULLLURRURDDDDDDRRDUURDRDLLRDLDLULLURLLURRURD\n",
      "Weighted A* took 0.51 seconds on map 10 and visited 8349 states.\n",
      "46 moves were used: RRRRRDRULURULLLULDRUUULDRDLDRRDRULURURDDRDLLLL\n"
     ]
    }
   ],
   "source": [
    "def solve_all_weighted_astar():\n",
    "    for map in range(min(map_file_indices), max(map_file_indices) + 1):\n",
    "            solve(map, \"Weighted A*\")\n",
    "solve_all_weighted_astar()"
   ]
  },
  {
   "cell_type": "markdown",
   "metadata": {},
   "source": [
    "## A SUMMARY OF CONCLUSIONS\n",
    "\n",
    "### Q0\n",
    "**PROBLEM:** \n",
    "Why manhattan distance of player-box-goal is not good?\n",
    "\n",
    "    1. where ever we have walls manhatten falls short so in maps with a lot of walls usually its not a very good method\n",
    "\n",
    "    2. essential to note the existance of portals and consider them in our manhatten distance\n",
    "\n",
    "**SOLUTION:**\n",
    "\n",
    "one heuristic that works very good is for each box caluclate the function below and sum over all of them\n",
    "\n",
    "min (manhat_dist_box_goal , manhat_dist_box_portin + manhat_dist_portout_goal , manhat_dist_box_portout + manhat_dist_portin_goal) \n",
    "        \n",
    "this is an example for one port, two port is similar and the code is available.\n",
    "\n",
    "(heuristic = 0 and heuristic = dist-box-goal have also been done.)\n",
    "\n",
    "---\n",
    "\n",
    "### Q1\n",
    "**PROBLEM:**  \n",
    "As you know, saving the whole map is very space and time consuming. For example, if we have multiple layers of walls, we don't care about the second layer of walls because we can't get past the first one! Not to mention, with each move, only a slight position change happens in the map — so the explored set and frontier sets would be very large in memory, and finding a specific element like the player's position would be very time consuming (searching each element in the map to find it).\n",
    "\n",
    "**SOLUTION:**  \n",
    "- Location of player  \n",
    "- Location of boxes  \n",
    "---\n",
    "\n",
    "### Q2\n",
    "**ACTIONS:**\n",
    "- **UP**  \n",
    "- **DOWN**  \n",
    "- **LEFT**  \n",
    "- **RIGHT**  \n",
    "\n",
    "---\n",
    "\n",
    "### Q3\n",
    "**INITIAL STATE:**  \n",
    "- Initial location of player and boxes  \n",
    "\n",
    "**ACTIONS:**  \n",
    "- **UP**, **DOWN**, **LEFT**, **RIGHT** \n",
    "\n",
    "**GOAL STATE:**\n",
    "    All box locations match their respective goal locations\n",
    "    \n",
    "**PATH COST:**\n",
    "    Each action costs 1 unit\n",
    "    Total path cost = Total distance traveled\n",
    "\n",
    "**TRANSITION MODEL:**  \n",
    "If an action is possible (not colliding with walls or two (or more) boxes), then:  \n",
    "- Update the player’s location  \n",
    "- Check if there is a box in the player’s new location:  \n",
    "  - If there is, update the box's location (it moves like the player if possible, meaning no walls or boxes block its path)  \n",
    "\n",
    "```python\n",
    "if action == possible:\n",
    "    # Moving left\n",
    "    left -> pos_player(x - 1, y)\n",
    "    if there is box(pos_player_x, pos_player_y):\n",
    "        update_box_location(x - 1, y)\n",
    "    \n",
    "    # Moving right\n",
    "    right -> pos_player(x + 1, y)\n",
    "    if there is box(pos_player_x, pos_player_y):\n",
    "        update_box_location(x + 1, y)\n",
    "\n",
    "    # Moving down\n",
    "    down -> pos_player(x, y - 1)\n",
    "    if there is box(pos_player_x, pos_player_y):\n",
    "        update_box_location(x, y - 1)\n",
    "\n",
    "    # Moving up\n",
    "    up -> pos_player(x, y + 1)\n",
    "    if there is box(pos_player_x, pos_player_y):\n",
    "        update_box_location(x, y + 1)\n",
    "\n"
   ]
  },
  {
   "cell_type": "markdown",
   "metadata": {},
   "source": [
    "### Q4  \n",
    "**PROBLEM:**  \n",
    "\n",
    "If we expand every state, then our search tree will have higher depth and branching factor, requiring more time and space.  \n",
    "Another key factor is that we may get stuck in an infinite loop.  \n",
    "\n",
    "**SOLUTION:**  \n",
    "\n",
    "- **Forward-checking:** One way of reducing paths that will not lead to a solution is removing states in which 3 or 4 sides of a box are surrounded by walls or other boxes. Since the player cannot move these boxes, these states will never lead to a solution. By eliminating them, we not only remove these states but also all their potential child states.  \n",
    "- **Avoiding infinite loops:** If we don't keep track of visited states and expand every neighbor, we might get stuck in an infinite loop. To prevent this, we mark visited paths and avoid re-adding a state unless it has a lower cost the second time; in that case, we update the state instead of duplicating it.  \n",
    "\n",
    "---\n",
    "\n",
    "### Q5  \n",
    "**BFS**  \n",
    "\n",
    "Pick a random node as a root. Expand this node and add all its neighbors to the frontier—this completes level 0.  \n",
    "Pop from the frontier (FIFO list) and expand this node. After expanding every neighbor of the root, we have completed level 1 and so on.  \n",
    "\n",
    "**Pros:**  \n",
    "- Complete  \n",
    "- Optimal  \n",
    "- Good time complexity  \n",
    "- Determines the minimum distance of every node from the root  \n",
    "\n",
    "**Cons:**  \n",
    "- Bad space complexity (must store all nodes at the last level, which grows exponentially)  \n",
    "\n",
    "**DFS**  \n",
    "\n",
    "Pick a random node as a root. Expand this node, then go to one of its neighbors and repeat—this searches by selecting a branch and going depth-first.  \n",
    "despite it's cons, dfs is still used because it has good space complexity and for tree search because of not worring for loops.\n",
    "**Pros:**  \n",
    "- Good space complexity\n",
    "\n",
    "**Cons:**\n",
    "- Not Complete(if the number of states in total are finite and you handle loops then it would be complete)\n",
    "- Not Optimal\n",
    "- Bad time complexity (by limiting the depth in which it can go we can fix this (ids main idea))\n",
    "\n",
    "**IDS**\n",
    "\n",
    "removes the problem of space of bfs and time of dfs by using the best features of both of these, basically ids is limiting dfs in every state, meaning dfs but with max depth i and i in range(0, 1000) 1000 is an example and it matters for the user that how much cost it wants to pay.\n",
    "\n",
    "**Pros:**  \n",
    "- Complete  \n",
    "- Optimal  \n",
    "- Good time complexity  -> if b is branching factor and d the depth of optimal solution then (d+1)b + db^2 + (d-1)b^3 + ... + b^d = O(b^d)\n",
    "- Good space complexity  -> O(bd) because we expand every node\n",
    "\n",
    "**Astar**\n",
    "\n",
    "by having an estimation of how close of we are to the goal(heuristic or h(n)) and the cost we have paid to get here(g(n)), A* is calculated(combining greedy best-fit search and bfs).\n",
    "\n",
    "f(n) = h(n) + g(n)\n",
    "\n",
    "expands the node with the lowest f(n) in the frontier\n",
    "\n",
    "if heuristic is admissible and tree-search is done or consistant and graph-search -> optimal\n",
    "\n",
    "---\n",
    "\n",
    "### Q6\n",
    "BFS provides optimal solution but number of visited states is much bigger.\n",
    "DFS does not give optimal solutions and does not work really well in huge maps because of it's poor time complexity\n",
    "IDS provides optimal solution and a bit better than dfs in some bigger maps but has time problem for others\n",
    "\n",
    "---\n",
    "\n",
    "### Q7\n",
    "the heuristic I used is explained in the begining of the questions(title- middle part of project questions) and it is admissible because we are only moving in \n",
    "horizontal and vertical and never going back and because agent can only move in this 2 way then we have always predicted a smaller cost than the reality\n",
    "(i am speaking about the final version, not considering the portals wouldn't result in an optimal solution because it's not admissible because the agent can use portals to shorten it's path and shorter than the manhatten distance).\n",
    "it's not consistant because for example for 2 points the cost by heuristics can be greater than the real cost because the agent might use portals to shorten it.\n",
    "for consistancy cost(a to c) >= h(a) - h(c)\n"
   ]
  }
 ],
 "metadata": {
  "kernelspec": {
   "display_name": "Python 3",
   "language": "python",
   "name": "python3"
  },
  "language_info": {
   "codemirror_mode": {
    "name": "ipython",
    "version": 3
   },
   "file_extension": ".py",
   "mimetype": "text/x-python",
   "name": "python",
   "nbconvert_exporter": "python",
   "pygments_lexer": "ipython3",
   "version": "3.12.6"
  }
 },
 "nbformat": 4,
 "nbformat_minor": 2
}
